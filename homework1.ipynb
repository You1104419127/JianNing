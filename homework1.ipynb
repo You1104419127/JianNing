{
 "cells": [
  {
   "cell_type": "code",
   "execution_count": 1,
   "metadata": {},
   "outputs": [
    {
     "name": "stdout",
     "output_type": "stream",
     "text": [
      "enter your time here\n",
      "you ball was at rest and was falling from\n",
      "1960.0000000000002\n",
      "meters above the ground\n"
     ]
    }
   ],
   "source": [
    "print(\"enter your time here\")\n",
    "t = input()\n",
    "t = int(t)\n",
    "height = 1/2 * 9.8 * t**2\n",
    "print(\"you ball was at rest and was falling from\")\n",
    "print(height)\n",
    "print(\"meters above the ground\")"
   ]
  }
 ],
 "metadata": {
  "kernelspec": {
   "display_name": "base",
   "language": "python",
   "name": "python3"
  },
  "language_info": {
   "codemirror_mode": {
    "name": "ipython",
    "version": 3
   },
   "file_extension": ".py",
   "mimetype": "text/x-python",
   "name": "python",
   "nbconvert_exporter": "python",
   "pygments_lexer": "ipython3",
   "version": "3.9.13"
  },
  "orig_nbformat": 4,
  "vscode": {
   "interpreter": {
    "hash": "edf71be3466f55ced17e717eda0bcadd5192f8cd3e3fb0063285c73bb8706300"
   }
  }
 },
 "nbformat": 4,
 "nbformat_minor": 2
}
